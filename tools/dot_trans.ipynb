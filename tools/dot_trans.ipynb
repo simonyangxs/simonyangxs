{
 "cells": [
  {
   "cell_type": "code",
   "execution_count": 7,
   "id": "34ef9947-ebc6-46fc-a6a5-8484a3441fa0",
   "metadata": {},
   "outputs": [
    {
     "name": "stdout",
     "output_type": "stream",
     "text": [
      "点状像素图已保存至：dot_pixel.png\n"
     ]
    }
   ],
   "source": [
    "from PIL import Image, ImageDraw\n",
    "\n",
    "def convert_to_dot_pixel(input_path, output_path, dot_size=3, dot_spacing=5):\n",
    "    \"\"\"\n",
    "    将图片转换为点状像素风格（Dot Pixel）\n",
    "    :param input_path: 原始图片路径\n",
    "    :param output_path: 输出图片保存路径\n",
    "    :param dot_size: 单个点的大小（直径）\n",
    "    :param dot_spacing: 点之间的间距（控制密度，需大于 dot_size）\n",
    "    \"\"\"\n",
    "    try:\n",
    "        # 打开原图并转为RGB模式\n",
    "        img = Image.open(input_path).convert(\"RGB\")\n",
    "        width, height = img.size\n",
    "        \n",
    "        # 创建空白画布（白色背景，可改为其他颜色）\n",
    "        dot_image = Image.new(\"RGB\", (width, height), color=(255, 255, 255))\n",
    "        draw = ImageDraw.Draw(dot_image)\n",
    "        \n",
    "        # 遍历原图像素，按网格绘制对应颜色的点\n",
    "        for y in range(0, height, dot_spacing):\n",
    "            for x in range(0, width, dot_spacing):\n",
    "                # 获取原图对应位置的像素颜色\n",
    "                # 为避免越界，取网格中心坐标的颜色\n",
    "                pixel_x = min(x + dot_spacing//2, width - 1)\n",
    "                pixel_y = min(y + dot_spacing//2, height - 1)\n",
    "                r, g, b = img.getpixel((pixel_x, pixel_y))\n",
    "                \n",
    "                # 绘制圆点（用椭圆模拟，填充颜色为原图对应像素色）\n",
    "                # 椭圆的左上角和右下角坐标（控制圆点大小）\n",
    "                draw.ellipse(\n",
    "                    [\n",
    "                        (x - dot_size//2, y - dot_size//2),  # 左上角\n",
    "                        (x + dot_size//2, y + dot_size//2)   # 右下角\n",
    "                    ],\n",
    "                    fill=(r, g, b)\n",
    "                )\n",
    "        \n",
    "        # 保存结果\n",
    "        dot_image.save(output_path)\n",
    "        print(f\"点状像素图已保存至：{output_path}\")\n",
    "        \n",
    "    except Exception as e:\n",
    "        print(f\"处理失败：{e}\")\n",
    "\n",
    "# 示例用法\n",
    "if __name__ == \"__main__\":\n",
    "    input_img = \"tt.jpg\"    # 替换为你的原图路径\n",
    "    output_img = \"dot_pixel.png\"  # 输出图片路径\n",
    "    convert_to_dot_pixel(\n",
    "        input_path=input_img,\n",
    "        output_path=output_img,\n",
    "        dot_size=5,    # 点的大小（建议 1-5）\n",
    "        dot_spacing=10  # 点的间距（建议比 dot_size 大 1-2，值越小点越密）\n",
    "    )"
   ]
  },
  {
   "cell_type": "code",
   "execution_count": null,
   "id": "c68d4798-b189-4a6c-afc9-cb2796ef4721",
   "metadata": {},
   "outputs": [],
   "source": []
  }
 ],
 "metadata": {
  "kernelspec": {
   "display_name": "Python",
   "language": "python",
   "name": "base"
  },
  "language_info": {
   "codemirror_mode": {
    "name": "ipython",
    "version": 3
   },
   "file_extension": ".py",
   "mimetype": "text/x-python",
   "name": "python",
   "nbconvert_exporter": "python",
   "pygments_lexer": "ipython3",
   "version": "3.12.8"
  }
 },
 "nbformat": 4,
 "nbformat_minor": 5
}
